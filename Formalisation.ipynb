{
 "cells": [
  {
   "cell_type": "markdown",
   "metadata": {},
   "source": [
    "# Simplicity in unsupervised categorisation"
   ]
  },
  {
   "cell_type": "code",
   "execution_count": 1,
   "metadata": {},
   "outputs": [],
   "source": [
    "import numpy as np\n",
    "from math import factorial, comb, inf, log2, ceil, pow\n",
    "import matplotlib.pyplot as plt"
   ]
  },
  {
   "cell_type": "markdown",
   "metadata": {},
   "source": [
    "### Implementing the formalisation"
   ]
  },
  {
   "cell_type": "code",
   "execution_count": 2,
   "metadata": {},
   "outputs": [],
   "source": [
    "def compute_pairwise_distances(points:list[list[int]]) -> np.array:\n",
    "    points_matrix = np.repeat(points, len(points), axis=0).reshape(len(points),len(points),2)\n",
    "    points_matrix_T = np.concatenate([points]*len(points), axis=0).reshape(len(points),len(points),2)\n",
    "  \n",
    "    return np.linalg.norm(points_matrix_T-points_matrix, axis=2)\n",
    "\n",
    "def compute_constraints(categories:list[list[int]]) -> int:\n",
    "    inside_dists = 0\n",
    "    for c in categories:\n",
    "        inside_dists += (len(c)*(len(c)-1))/2\n",
    "\n",
    "    ouside_dists = 0\n",
    "    for i in range(len(categories)-1):\n",
    "        for j in range(i+1, len(categories)):\n",
    "            ouside_dists += len(categories[i])*len(categories[j])\n",
    "\n",
    "    return inside_dists * ouside_dists\n",
    "\n",
    "def compute_categorisation_costs(points:list[list[int]], categories:list[list[int]]) -> int: \n",
    "    r = len(points)\n",
    "    n = len(categories)\n",
    "    part_r_n = sum((pow(-1, v)) * (pow(n-v, r)) / (factorial(n-v)*factorial(v)) for v in range(n))  # Stirling number of 2nd kind\n",
    "    \n",
    "    return ceil(log2(len(categories)+1)) + ceil(log2(part_r_n))\n",
    "\n",
    "def compute_number_of_errors(points, categories):\n",
    "    error_counter = 0\n",
    "    distance_matrix = compute_pairwise_distances(points)\n",
    "\n",
    "    ij_in_same_category = False\n",
    "    kl_in_same_category = False\n",
    "\n",
    "    # iterate over top right part of distance matrix, current points are (i,j)\n",
    "    for i in range(0, distance_matrix.shape[0]):\n",
    "        for j in range(i+1, distance_matrix.shape[1]):\n",
    "            # d(i,j) is the fist distance\n",
    "\n",
    "        # check if i and j are in the same or in different categories\n",
    "            for c in categories:  \n",
    "                if (i in c) and not(j in c) or not(i in c) and (j in c): # i and j in different categories\n",
    "                    ij_in_same_category = False\n",
    "                    break  \n",
    "                if i in c and j in c: ij_in_same_category = True\n",
    "\n",
    "    # iterate over points right or bottom from (i,j), current points are (k,l)\n",
    "            for k in range(i, distance_matrix.shape[0]):\n",
    "                for l in range(k+1, distance_matrix.shape[1]):\n",
    "                    # d(k,l) is the second distance we might want to compare to d(i,j) \n",
    "\n",
    "                    if k>i or l>j:  # ignore redundand comparisons\n",
    "\n",
    "        # check if k and l are in the same or in different categories\n",
    "                        for c in categories:  \n",
    "                            if (k in c) and not(l in c) or not(k in c) and (l in c): # k and l in different categories\n",
    "                                kl_in_same_category = False\n",
    "                                break  \n",
    "                            if k in c and l in c: kl_in_same_category = True\n",
    "\n",
    "    # check for possible error\n",
    "                        if ij_in_same_category + kl_in_same_category == 1:  # actual constraint, possible error\n",
    "                            if ij_in_same_category and (distance_matrix[i,j] > distance_matrix[k,l]): error_counter += 1\n",
    "                            if kl_in_same_category and (distance_matrix[k,l] > distance_matrix[i,j]): error_counter += 1\n",
    "\n",
    "    return error_counter\n",
    "\n",
    "def compute_number_of_errors_equality(points, categories):\n",
    "    error_counter = 0\n",
    "    distance_matrix = compute_pairwise_distances(points)\n",
    "\n",
    "    ij_in_same_category = False\n",
    "    kl_in_same_category = False\n",
    "\n",
    "    # iterate over top right part of distance matrix, current points are (i,j)\n",
    "    for i in range(0, distance_matrix.shape[0]):\n",
    "        for j in range(i+1, distance_matrix.shape[1]):\n",
    "            # d(i,j) is the fist distance\n",
    "\n",
    "        # check if i and j are in the same or in different categories\n",
    "            for c in categories:  \n",
    "                if (i in c) and not(j in c) or not(i in c) and (j in c): # i and j in different categories\n",
    "                    ij_in_same_category = False\n",
    "                    break  \n",
    "                if i in c and j in c: ij_in_same_category = True\n",
    "\n",
    "    # iterate over points right or bottom from (i,j), current points are (k,l)\n",
    "            for k in range(i, distance_matrix.shape[0]):\n",
    "                for l in range(k+1, distance_matrix.shape[1]):\n",
    "                    # d(k,l) is the second distance we might want to compare to d(i,j) \n",
    "\n",
    "                    if k>i or l>j:  # ignore redundand comparisons\n",
    "\n",
    "        # check if k and l are in the same or in different categories\n",
    "                        for c in categories:  \n",
    "                            if (k in c) and not(l in c) or not(k in c) and (l in c): # k and l in different categories\n",
    "                                kl_in_same_category = False\n",
    "                                break  \n",
    "                            if k in c and l in c: kl_in_same_category = True\n",
    "\n",
    "    # check for possible error\n",
    "                        if ij_in_same_category + kl_in_same_category == 1:  # actual constraint, possible error\n",
    "                            if ij_in_same_category and (distance_matrix[i,j] >= distance_matrix[k,l]): error_counter += 1\n",
    "                            if kl_in_same_category and (distance_matrix[k,l] >= distance_matrix[i,j]): error_counter += 1\n",
    "\n",
    "    return error_counter\n",
    "\n",
    "def compute_error_costs(constraints:int, errors:int) -> int:\n",
    "    # if errors > constraints:\n",
    "    #     raise Exception(\"MORE ERRORS THAN CONSTRAINTS!!!\")\n",
    "    \n",
    "    if errors >= constraints/2: return inf\n",
    "    else: \n",
    "        try:\n",
    "            result = ceil(log2(errors+1)) + ceil(log2(comb(int(constraints), int(errors))))    # num of errors may not be greater than num of than constraints\n",
    "        except: \n",
    "            print(constraints)\n",
    "            print(errors)\n",
    "\n",
    "    return result\n",
    "\n",
    "def compute_codelength_chater_pothos(points:list[list[int]], categories:list[list[int]], do_print:bool=False) -> tuple[int,int,int,int,int]:\n",
    "    r = points.shape[0] # number of points\n",
    "    s = (r*(r-1))/2 # number of distances\n",
    "    inequalities = (s*(s-1))/2  # number of inequalities\n",
    "\n",
    "    constraints = compute_constraints(categories)    # number of contraints\n",
    "\n",
    "    categorisation_costs = compute_categorisation_costs(points, categories)  # costs to store the categorisation\n",
    "\n",
    "    number_of_errors = compute_number_of_errors(points, categories)\n",
    "\n",
    "    error_correction_costs = compute_error_costs(constraints, number_of_errors)\n",
    "\n",
    "    if error_correction_costs == inf: codelength = inf\n",
    "    else: codelength = inequalities - constraints + categorisation_costs + error_correction_costs\n",
    "    if do_print: print(f\"The total encoding of the categorisation {categories} is of length {codelength}.\\n  This is the result of a compression of {inequalities - codelength} computed as {constraints} bits for constraints - {categorisation_costs} bits for categories - {error_correction_costs} bits for error correction.\")\n",
    "    return codelength, inequalities, constraints, categorisation_costs, error_correction_costs\n",
    "\n",
    "\n",
    "def compute_codelength_equality(points:list[list[int]], categories:list[list[int]], do_print:bool=False) -> tuple[int,int,int,int,int]:\n",
    "    r = points.shape[0] # number of points\n",
    "    s = (r*(r-1))/2 # number of distances\n",
    "    inequalities = (s*(s-1))/2  # number of inequalities\n",
    "    inequalities_bits = inequalities * 2  # two bits to represent three states (less, equal, greater)\n",
    "\n",
    "    constraints = compute_constraints(categories)    # number of contraints\n",
    "    constraints_bits = constraints * 2\n",
    "\n",
    "    categorisation_costs = compute_categorisation_costs(points, categories)  # costs to store the categorisation\n",
    "\n",
    "    number_of_errors = compute_number_of_errors_equality(points, categories)\n",
    "\n",
    "    error_correction_costs = compute_error_costs(constraints, number_of_errors)\n",
    "\n",
    "    if error_correction_costs == inf: codelength = inf\n",
    "    else: codelength = inequalities_bits - constraints_bits + categorisation_costs + error_correction_costs\n",
    "    if do_print: print(f\"The total encoding of the categorisation {categories} is of length {codelength}.\\n  This is the result of a compression of {inequalities_bits - codelength} computed as {constraints} bits for constraints - {categorisation_costs} bits for categories - {error_correction_costs} bits for error correction.\")\n",
    "    return codelength, inequalities_bits, constraints_bits, categorisation_costs, error_correction_costs\n",
    "\n",
    "def compute_codelength_weighted(points:list[list[int]], categories:list[list[int]], weight:float,  do_print:bool=False) -> tuple[int,int,int,int,int]:\n",
    "    r = points.shape[0] # number of points\n",
    "    s = (r*(r-1))/2 # number of distances\n",
    "    inequalities = (s*(s-1))/2  # number of inequalities\n",
    "\n",
    "    constraints = compute_constraints(categories)    # number of contraints\n",
    "\n",
    "    categorisation_costs = compute_categorisation_costs(points, categories)  # costs to store the categorisation\n",
    "\n",
    "    number_of_errors = compute_number_of_errors(points, categories)\n",
    "\n",
    "    error_correction_costs = weight * compute_error_costs(constraints, number_of_errors)\n",
    "\n",
    "    if error_correction_costs == inf: codelength = inf\n",
    "    else: codelength = inequalities - constraints + categorisation_costs + error_correction_costs\n",
    "    if do_print: print(f\"The total encoding of the categorisation {categories} is of length {codelength}.\\n  This is the result of a compression of {inequalities - codelength} computed as {constraints} bits for constraints - {categorisation_costs} bits for categories - {error_correction_costs} bits for error correction weighted by the factor {weight}.\")\n",
    "    return codelength, inequalities, constraints, categorisation_costs, error_correction_costs\n"
   ]
  },
  {
   "cell_type": "markdown",
   "metadata": {},
   "source": [
    "### Searching all possible categorisations for the optimum"
   ]
  },
  {
   "cell_type": "markdown",
   "metadata": {},
   "source": [
    "Method for partition from: https://stackoverflow.com/questions/19368375/set-partitions-in-python"
   ]
  },
  {
   "cell_type": "code",
   "execution_count": 3,
   "metadata": {},
   "outputs": [],
   "source": [
    "def partition(collection):\n",
    "    if len(collection) == 1:\n",
    "        yield [ collection ]\n",
    "        return\n",
    "\n",
    "    first = collection[0]\n",
    "    for smaller in partition(collection[1:]):\n",
    "        # insert `first` in each of the subpartition's subsets\n",
    "        for n, subset in enumerate(smaller):\n",
    "            yield smaller[:n] + [[ first ] + subset]  + smaller[n+1:]\n",
    "        # put `first` in its own subset \n",
    "        yield [ [ first ] ] + smaller\n",
    "\n",
    "\n",
    "def compute_optimal_categorisations(points:list[list[int]], version:str='original', weight:float=1, do_print:bool=False) -> tuple[list[list[int], list[list[list[int]]]]]:\n",
    "    min_codelength = inf\n",
    "    optimal_categorisation = []\n",
    "    all_optimal_categorisations = []\n",
    "\n",
    "    for c in partition(list(range(0,len(points)))):\n",
    "        if version == 'equal':\n",
    "            codelength, _, _, _, _ = compute_codelength_equality(points, c)\n",
    "        if version == 'original':\n",
    "            codelength, _, _, _, _ = compute_codelength_chater_pothos(points, c)\n",
    "        if version == 'weighted':\n",
    "            codelength, _, _, _, _ = compute_codelength_weighted(points, c, weight)\n",
    "        if codelength < min_codelength:\n",
    "            min_codelength = codelength\n",
    "            optimal_categorisation = c\n",
    "            all_optimal_categorisations = [c]\n",
    "        elif codelength == min_codelength: \n",
    "            all_optimal_categorisations.append(c)\n",
    "    \n",
    "    if do_print: \n",
    "        print(f\"[{version}] An optimal categorisation is {optimal_categorisation}. There is/are {len(all_optimal_categorisations)} optimal one(s). The optimal codelength is {min_codelength}.\")\n",
    "        if version == 'equal':\n",
    "            compute_codelength_equality(points, optimal_categorisation, True)\n",
    "        if version == 'original':\n",
    "            compute_codelength_chater_pothos(points, optimal_categorisation, True)\n",
    "        if version == 'weighted':\n",
    "            compute_codelength_weighted(points, optimal_categorisation, weight, True)\n",
    "    return optimal_categorisation, all_optimal_categorisations\n"
   ]
  },
  {
   "cell_type": "markdown",
   "metadata": {},
   "source": [
    "### Plotting"
   ]
  },
  {
   "cell_type": "code",
   "execution_count": 4,
   "metadata": {},
   "outputs": [],
   "source": [
    "def plot_points_black(points):\n",
    "    \n",
    "    plt.figure(figsize=(5, 5), dpi=80)\n",
    "\n",
    "    plt.scatter(x=points[:,0], y=points[:,1], color='black')\n",
    "    ax = plt.gca()\n",
    "    ax.set_xlim([0, 10])\n",
    "    ax.set_ylim([0, 10])\n",
    "\n",
    "    plt.show()\n",
    "\n",
    "\n",
    "def plot_categorisation(points, categories, version:str='original'):\n",
    "\n",
    "    plt.figure(figsize=(5, 5), dpi=80)\n",
    "    colors = plt.cm.jet(np.linspace(0, 1, len(categories)))\n",
    "\n",
    "    for idx, category in enumerate(categories):\n",
    "        category_points = points[category]\n",
    "        plt.scatter(x=category_points[:, 0], \n",
    "                    y=category_points[:, 1], \n",
    "                    color=colors[idx], \n",
    "                    label=f'Category {idx + 1}')\n",
    "    \n",
    "    ax = plt.gca()\n",
    "    ax.set_xlim([0, 10])\n",
    "    ax.set_ylim([0, 10])\n",
    "    ax.set_title(version)\n",
    "\n",
    "    # plt.legend()\n",
    "    plt.show()\n",
    "\n",
    "def plot_all_optimal_categorisations(points, all_optimal_categorisations):\n",
    "    for categorisation in all_optimal_categorisations:\n",
    "        plot_categorisation(points, categorisation)"
   ]
  },
  {
   "cell_type": "code",
   "execution_count": 5,
   "metadata": {},
   "outputs": [],
   "source": [
    "def do_the_thing(points:list[list[int]]) :\n",
    "    opt_original, _ = compute_optimal_categorisations(points, 'original',True)\n",
    "    opt_equal, _ = compute_optimal_categorisations(points, 'equal',True)\n",
    "    weight_a = 1.5\n",
    "    opt_weighted_a, _ = compute_optimal_categorisations(points, 'weighted', weight_a, True)\n",
    "    weight_b = 0.5\n",
    "    opt_weighted_b, _ = compute_optimal_categorisations(points, 'weighted', weight_b, True)\n",
    "\n",
    "    plot_categorisation(points, opt_original, 'original')\n",
    "    plot_categorisation(points, opt_equal, 'including equal')\n",
    "    plot_categorisation(points, opt_weighted_a, f'weighted by {weight_a}')\n",
    "    plot_categorisation(points, opt_weighted_b, f'weighted by {weight_b}')\n"
   ]
  },
  {
   "cell_type": "markdown",
   "metadata": {},
   "source": [
    "## Example"
   ]
  },
  {
   "cell_type": "code",
   "execution_count": 13,
   "metadata": {},
   "outputs": [
    {
     "data": {
      "image/png": "[encoded data removed]",
      "text/plain": [
       "<Figure size 400x400 with 1 Axes>"
      ]
     },
     "metadata": {},
     "output_type": "display_data"
    }
   ],
   "source": [
    "points_example = np.array([[0.83720151, 0.08250322],\n",
    "                    [0.442193 ,  0.24037118],\n",
    "                    [0.24870598, 0.13469951],\n",
    "                    [0.18027245, 0.87028613],\n",
    "                    [0.96628945, 0.4852758 ],\n",
    "                    [0.45288128, 0.36227845],\n",
    "                    [0.93201882, 0.10808033],\n",
    "                    [0.43761015, 0.59503974],\n",
    "                    [0.77300843, 0.7072553 ],\n",
    "                    [0.46410716, 0.3618821 ]])*10 # np.random.rand(10,2) #+ np.repeat([0,3],10).reshape(10,2)\n",
    "plot_points_black(points_example)\n"
   ]
  },
  {
   "cell_type": "code",
   "execution_count": 8,
   "metadata": {},
   "outputs": [
    {
     "data": {
      "image/png": "[encoded data removed]",
      "text/plain": [
       "<Figure size 400x400 with 1 Axes>"
      ]
     },
     "metadata": {},
     "output_type": "display_data"
    }
   ],
   "source": [
    "opt, _ = compute_optimal_categorisations(points_example,'original', True)\n",
    "\n",
    "plot_categorisation(points_example, opt)"
   ]
  },
  {
   "cell_type": "markdown",
   "metadata": {},
   "source": [
    "# Data from the paper"
   ]
  },
  {
   "cell_type": "markdown",
   "metadata": {},
   "source": [
    "### 1) Two clusters"
   ]
  },
  {
   "cell_type": "code",
   "execution_count": 14,
   "metadata": {},
   "outputs": [
    {
     "data": {
      "image/png": "[encoded data removed]",
      "text/plain": [
       "<Figure size 400x400 with 1 Axes>"
      ]
     },
     "metadata": {},
     "output_type": "display_data"
    }
   ],
   "source": [
    "points_1 = np.array([3, 7.13, 3.88, 7.13, 3.02, 6.11, 3.93, 6.11, 3.88, 5.06, 8.91, 3.11, 8.01, 2.13, 8.9, 2.13, 8.98, 1.04, 8.05, 0.18]).reshape(10,2)\n",
    "plot_points_black(points_1)"
   ]
  },
  {
   "cell_type": "code",
   "execution_count": 15,
   "metadata": {},
   "outputs": [],
   "source": [
    "# opt_1, _ = compute_optimal_categorisations(points_1, True)\n",
    "\n",
    "# plot_categorisation(points_1, opt_1)"
   ]
  },
  {
   "cell_type": "code",
   "execution_count": 16,
   "metadata": {},
   "outputs": [],
   "source": [
    "# compute_codelength(points_1, opt_1, True)"
   ]
  },
  {
   "cell_type": "markdown",
   "metadata": {},
   "source": [
    "### 2) Big, small cluster"
   ]
  },
  {
   "cell_type": "code",
   "execution_count": 17,
   "metadata": {},
   "outputs": [
    {
     "data": {
      "image/png": "[encoded data removed]",
      "text/plain": [
       "<Figure size 400x400 with 1 Axes>"
      ]
     },
     "metadata": {},
     "output_type": "display_data"
    }
   ],
   "source": [
    "points_2 = np.array([2.42, 4.05, 3.25, 4.02, 3.32, 3.01, 7.96, 4.9, 8.87, 4.9, 9.8, 4.87, 7.97, 3.97, 8.84, 4.07, 9.84, 4.02, 8.81, 3.16]).reshape(10,2)\n",
    "plot_points_black(points_2)"
   ]
  },
  {
   "cell_type": "code",
   "execution_count": 18,
   "metadata": {},
   "outputs": [],
   "source": [
    "# opt_2, _ = compute_optimal_categorisations(points_2, True)\n",
    "\n",
    "# plot_categorisation(points_2, opt_2)"
   ]
  },
  {
   "cell_type": "code",
   "execution_count": 19,
   "metadata": {},
   "outputs": [],
   "source": [
    "# compute_codelength(points_2, opt_2, True)"
   ]
  },
  {
   "cell_type": "markdown",
   "metadata": {},
   "source": [
    "### 3) Three clusters"
   ]
  },
  {
   "cell_type": "code",
   "execution_count": 20,
   "metadata": {},
   "outputs": [
    {
     "data": {
      "image/png": "[encoded data removed]",
      "text/plain": [
       "<Figure size 400x400 with 1 Axes>"
      ]
     },
     "metadata": {},
     "output_type": "display_data"
    }
   ],
   "source": [
    "points_3 = np.array([1.91, 7.27, 2.91, 6.15, 3.88, 6.15, 3.88, 5.16, 8.74, 9.2, 9.78, 9.18, 9.69, 8.26, 6.78, 3.18, 6.66, 2.18, 7.75, 1.12]).reshape(10,2)\n",
    "plot_points_black(points_3)"
   ]
  },
  {
   "cell_type": "code",
   "execution_count": 21,
   "metadata": {},
   "outputs": [],
   "source": [
    "# opt_3, _ = compute_optimal_categorisations(points_3, True)\n",
    "\n",
    "# plot_categorisation(points_3, opt_3)"
   ]
  },
  {
   "cell_type": "code",
   "execution_count": 22,
   "metadata": {},
   "outputs": [],
   "source": [
    "# compute_codelength(points_3, opt_3, True)"
   ]
  },
  {
   "cell_type": "markdown",
   "metadata": {},
   "source": [
    "### 4) Little structure"
   ]
  },
  {
   "cell_type": "code",
   "execution_count": 23,
   "metadata": {},
   "outputs": [
    {
     "data": {
      "image/png": "[encoded data removed]",
      "text/plain": [
       "<Figure size 400x400 with 1 Axes>"
      ]
     },
     "metadata": {},
     "output_type": "display_data"
    }
   ],
   "source": [
    "points_4 = np.array([2.7, 7.48, 4.75, 8.32, 6.73, 8.36, 2.77, 4.53, 4.92, 4.45, 5.72, 5.33, 7.72, 6.41, 7.7, 3.53, 3.82, 1.52, 5.69, 1.48]).reshape(10,2)\n",
    "plot_points_black(points_4)"
   ]
  },
  {
   "cell_type": "code",
   "execution_count": 24,
   "metadata": {},
   "outputs": [
    {
     "name": "stdout",
     "output_type": "stream",
     "text": [
      "[weighted] An optimal categorisation is [[0], [1, 2], [3], [4, 5], [6], [7], [8, 9]]. There is/are 1 optimal one(s). The optimal codelength is 880.0.\n",
      "The total encoding of the categorisation [[0], [1, 2], [3], [4, 5], [6], [7], [8, 9]] is of length 880.0.\n",
      "  This is the result of a compression of 110.0 computed as 126.0 bits for constraints - 16 bits for categories - 0 bits for error correction weighted by the factor 2.\n",
      "[weighted] An optimal categorisation is [[0, 1, 2, 6], [3, 4, 5, 7, 8, 9]]. There is/are 1 optimal one(s). The optimal codelength is 672.5.\n",
      "The total encoding of the categorisation [[0, 1, 2, 6], [3, 4, 5, 7, 8, 9]] is of length 672.5.\n",
      "  This is the result of a compression of 317.5 computed as 504.0 bits for constraints - 11 bits for categories - 175.5 bits for error correction weighted by the factor 0.5.\n"
     ]
    },
    {
     "data": {
      "image/png": "[encoded data removed]",
      "text/plain": [
       "<Figure size 400x400 with 1 Axes>"
      ]
     },
     "metadata": {},
     "output_type": "display_data"
    },
    {
     "data": {
      "image/png": "[encoded data removed]",
      "text/plain": [
       "<Figure size 400x400 with 1 Axes>"
      ]
     },
     "metadata": {},
     "output_type": "display_data"
    },
    {
     "data": {
      "image/png": "[encoded data removed]",
      "text/plain": [
       "<Figure size 400x400 with 1 Axes>"
      ]
     },
     "metadata": {},
     "output_type": "display_data"
    },
    {
     "data": {
      "image/png": "[encoded data removed]",
      "text/plain": [
       "<Figure size 400x400 with 1 Axes>"
      ]
     },
     "metadata": {},
     "output_type": "display_data"
    }
   ],
   "source": [
    "do_the_thing(points_4)"
   ]
  },
  {
   "cell_type": "code",
   "execution_count": null,
   "metadata": {},
   "outputs": [],
   "source": [
    "compute_codelength(points_4, opt_4, True)"
   ]
  },
  {
   "cell_type": "code",
   "execution_count": 27,
   "metadata": {},
   "outputs": [
    {
     "name": "stdout",
     "output_type": "stream",
     "text": [
      "[weighted] An optimal categorisation is [[0, 1], [3, 4, 5], [2, 6], [7], [8, 9]]. There is/are 1 optimal one(s). The optimal codelength is 854.3.\n",
      "The total encoding of the categorisation [[0, 1], [3, 4, 5], [2, 6], [7], [8, 9]] is of length 854.3.\n",
      "  This is the result of a compression of 135.70000000000005 computed as 234.0 bits for constraints - 19 bits for categories - 79.3 bits for error correction weighted by the factor 1.3.\n"
     ]
    },
    {
     "data": {
      "image/png": "[encoded data removed]",
      "text/plain": [
       "<Figure size 400x400 with 1 Axes>"
      ]
     },
     "metadata": {},
     "output_type": "display_data"
    }
   ],
   "source": []
  },
  {
   "cell_type": "code",
   "execution_count": 30,
   "metadata": {},
   "outputs": [
    {
     "name": "stdout",
     "output_type": "stream",
     "text": [
      "[[8.30930878 0.11226634]\n",
      " [3.31339091 4.45146947]\n",
      " [4.97282451 4.92725818]\n",
      " [7.6153998  7.49988126]\n",
      " [2.90479672 6.61424088]\n",
      " [1.09097799 0.90068599]\n",
      " [0.70472829 1.18627432]\n",
      " [1.98544094 1.00260936]\n",
      " [7.52458795 1.67270019]\n",
      " [5.6493741  6.21357853]]\n"
     ]
    },
    {
     "data": {
      "image/png": "[encoded data removed]",
      "text/plain": [
       "<Figure size 400x400 with 1 Axes>"
      ]
     },
     "metadata": {},
     "output_type": "display_data"
    }
   ],
   "source": []
  },
  {
   "cell_type": "code",
   "execution_count": 36,
   "metadata": {},
   "outputs": [
    {
     "name": "stdout",
     "output_type": "stream",
     "text": [
      "[[6.65413005 0.6334262 ]\n",
      " [5.14025148 9.21720115]\n",
      " [3.01844189 1.52713563]\n",
      " [0.57371172 2.96151463]\n",
      " [5.11019625 2.49292232]\n",
      " [7.3939303  8.50027079]\n",
      " [8.15200886 9.26539904]\n",
      " [6.33052207 6.10050806]\n",
      " [5.36762435 2.6799413 ]\n",
      " [0.16207719 0.47377474]]\n"
     ]
    },
    {
     "data": {
      "image/png": "[encoded data removed]",
      "text/plain": [
       "<Figure size 400x400 with 1 Axes>"
      ]
     },
     "metadata": {},
     "output_type": "display_data"
    }
   ],
   "source": [
    "random_points = np.random.rand(10,2)*10\n",
    "print(random_points)\n",
    "plot_points_black(random_points)"
   ]
  },
  {
   "cell_type": "code",
   "execution_count": null,
   "metadata": {},
   "outputs": [],
   "source": [
    "points = np.array([[6.65413005, 0.6334262 ],[5.14025148, 9.21720115],[3.01844189, 1.52713563],[0.57371172, 2.96151463],[5.11019625, 2.49292232],[7.3939303,  8.50027079],[8.15200886, 9.26539904],[6.33052207, 6.10050806], [5.36762435, 2.6799413 ], [0.16207719, 0.47377474]])\n",
    "\n",
    "do_the_thing(points)"
   ]
  },
  {
   "cell_type": "code",
   "execution_count": null,
   "metadata": {},
   "outputs": [],
   "source": []
  }
 ],
 "metadata": {
  "kernelspec": {
   "display_name": "Python 3 (ipykernel)",
   "language": "python",
   "name": "python3"
  },
  "language_info": {
   "codemirror_mode": {
    "name": "ipython",
    "version": 3
   },
   "file_extension": ".py",
   "mimetype": "text/x-python",
   "name": "python",
   "nbconvert_exporter": "python",
   "pygments_lexer": "ipython3",
   "version": "3.9.13"
  }
 },
 "nbformat": 4,
 "nbformat_minor": 2
}
